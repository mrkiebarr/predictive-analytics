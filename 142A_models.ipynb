{
  "cells": [
    {
      "cell_type": "code",
      "execution_count": null,
      "id": "ea63cc71-73da-4d0c-8a94-aa02a4e99c14",
      "metadata": {
        "id": "ea63cc71-73da-4d0c-8a94-aa02a4e99c14"
      },
      "outputs": [],
      "source": [
        "import numpy as np\n",
        "import pandas as pd\n",
        "import matplotlib.pyplot as plt\n",
        "import seaborn as sns\n",
        "import statsmodels.api as sm\n",
        "import statsmodels.formula.api as smf\n",
        "from sklearn.model_selection import train_test_split\n",
        "from sklearn.model_selection import GridSearchCV\n",
        "from sklearn.model_selection import KFold\n",
        "from sklearn.tree import DecisionTreeClassifier\n",
        "from sklearn.metrics import roc_curve, auc\n",
        "from sklearn.metrics import confusion_matrix\n",
        "from sklearn.ensemble import RandomForestClassifier\n",
        "from sklearn.discriminant_analysis import LinearDiscriminantAnalysis\n",
        "from sklearn.metrics import accuracy_score\n",
        "from sklearn.ensemble import GradientBoostingClassifier"
      ]
    },
    {
      "cell_type": "code",
      "execution_count": null,
      "id": "c86183a3-f27c-418c-8ff8-549bf50309b9",
      "metadata": {
        "id": "c86183a3-f27c-418c-8ff8-549bf50309b9",
        "outputId": "0d3e0bba-7b9d-4124-b3ca-f72519c2cfbd"
      },
      "outputs": [
        {
          "data": {
            "text/plain": [
              "['BookingID',\n",
              " 'BookingID_Date',\n",
              " 'vehicle_no',\n",
              " 'Origin_Location',\n",
              " 'Destination_Location',\n",
              " 'Org_lat_lon',\n",
              " 'Des_lat_lon',\n",
              " 'Data_Ping_time',\n",
              " 'Planned_ETA',\n",
              " 'Current_Location',\n",
              " 'actual_eta',\n",
              " 'Curr_lat',\n",
              " 'Curr_lon',\n",
              " 'ontime',\n",
              " 'delay',\n",
              " 'OriginLocation_Code',\n",
              " 'DestinationLocation_Code',\n",
              " 'trip_start_date',\n",
              " 'trip_end_date',\n",
              " 'TRANSPORTATION_DISTANCE_IN_KM',\n",
              " 'Minimum_kms_to_be_covered_in_a_day',\n",
              " 'supplierID',\n",
              " 'Material Shipped',\n",
              " 'Booking_Year',\n",
              " 'Booking_Month',\n",
              " 'Booking_Day',\n",
              " 'is_delayed',\n",
              " 'vehicleType_-1',\n",
              " 'vehicleType_0',\n",
              " 'vehicleType_1',\n",
              " 'vehicleType_2',\n",
              " 'vehicleType_3',\n",
              " 'vehicleType_4',\n",
              " 'vehicleType_5',\n",
              " 'vehicleType_6',\n",
              " 'vehicleType_7',\n",
              " 'vehicleType_8',\n",
              " 'vehicleType_9',\n",
              " 'vehicleType_10',\n",
              " 'vehicleType_11',\n",
              " 'vehicleType_12',\n",
              " 'vehicleType_13',\n",
              " 'vehicleType_14',\n",
              " 'vehicleType_15',\n",
              " 'vehicleType_16',\n",
              " 'vehicleType_17',\n",
              " 'vehicleType_18',\n",
              " 'vehicleType_19',\n",
              " 'vehicleType_20',\n",
              " 'vehicleType_21',\n",
              " 'vehicleType_22',\n",
              " 'vehicleType_23',\n",
              " 'vehicleType_24',\n",
              " 'vehicleType_25',\n",
              " 'vehicleType_26',\n",
              " 'vehicleType_27',\n",
              " 'vehicleType_28',\n",
              " 'vehicleType_29',\n",
              " 'vehicleType_30',\n",
              " 'vehicleType_31',\n",
              " 'vehicleType_32',\n",
              " 'vehicleType_33',\n",
              " 'vehicleType_34',\n",
              " 'vehicleType_35',\n",
              " 'vehicleType_36',\n",
              " 'vehicleType_37',\n",
              " 'vehicleType_38',\n",
              " 'vehicleType_39',\n",
              " 'vehicleType_40',\n",
              " 'vehicleType_41',\n",
              " 'vehicleType_42',\n",
              " 'vehicleType_43',\n",
              " 'Market/Regular_0',\n",
              " 'Market/Regular_1',\n",
              " 'GpsProvider_-1',\n",
              " 'GpsProvider_0',\n",
              " 'GpsProvider_1',\n",
              " 'GpsProvider_2',\n",
              " 'GpsProvider_3',\n",
              " 'GpsProvider_4',\n",
              " 'GpsProvider_5',\n",
              " 'GpsProvider_6',\n",
              " 'GpsProvider_7',\n",
              " 'GpsProvider_8',\n",
              " 'GpsProvider_9',\n",
              " 'GpsProvider_10',\n",
              " 'GpsProvider_11',\n",
              " 'GpsProvider_12',\n",
              " 'GpsProvider_13',\n",
              " 'GpsProvider_14',\n",
              " 'GpsProvider_15',\n",
              " 'GpsProvider_16',\n",
              " 'GpsProvider_17',\n",
              " 'GpsProvider_18',\n",
              " 'GpsProvider_19',\n",
              " 'GpsProvider_20',\n",
              " 'GpsProvider_21',\n",
              " 'GpsProvider_22',\n",
              " 'GpsProvider_23',\n",
              " 'GpsProvider_24',\n",
              " 'GpsProvider_25',\n",
              " 'GpsProvider_26',\n",
              " 'GpsProvider_27',\n",
              " 'GpsProvider_28']"
            ]
          },
          "execution_count": 3,
          "metadata": {},
          "output_type": "execute_result"
        }
      ],
      "source": [
        "shipping = pd.read_csv('df_encoded.csv')\n",
        "list(shipping.columns)"
      ]
    },
    {
      "cell_type": "code",
      "execution_count": null,
      "id": "474255c7-4d32-4bb4-be86-92a473d34c00",
      "metadata": {
        "id": "474255c7-4d32-4bb4-be86-92a473d34c00"
      },
      "outputs": [],
      "source": [
        "simple = shipping.drop(['BookingID',\n",
        " 'BookingID_Date',\n",
        " 'vehicle_no',\n",
        " 'Origin_Location',\n",
        " 'Destination_Location',\n",
        " 'Org_lat_lon',\n",
        " 'Des_lat_lon',\n",
        " 'Data_Ping_time',\n",
        " 'Planned_ETA',\n",
        " 'Current_Location',\n",
        " 'actual_eta',\n",
        " 'Curr_lat',\n",
        " 'Curr_lon',\n",
        " 'ontime',\n",
        " 'delay',\n",
        " 'OriginLocation_Code',\n",
        " 'DestinationLocation_Code',\n",
        " 'trip_start_date',\n",
        " 'trip_end_date','Minimum_kms_to_be_covered_in_a_day',\n",
        " 'supplierID',\n",
        " 'Material Shipped',\n",
        "'Market/Regular_0',\n",
        " 'Market/Regular_1'], axis=1)"
      ]
    },
    {
      "cell_type": "code",
      "execution_count": null,
      "id": "fb5f3d6e-b094-4ec2-b869-436c44353566",
      "metadata": {
        "id": "fb5f3d6e-b094-4ec2-b869-436c44353566",
        "outputId": "6f839b78-392f-4dee-cf6b-2394a11c0795"
      },
      "outputs": [
        {
          "name": "stdout",
          "output_type": "stream",
          "text": [
            "TRANSPORTATION_DISTANCE_IN_KM    10.245542\n",
            "Booking_Year                      0.000000\n",
            "Booking_Month                     0.000000\n",
            "Booking_Day                       0.000000\n",
            "is_delayed                        0.000000\n",
            "                                   ...    \n",
            "GpsProvider_24                    0.000000\n",
            "GpsProvider_25                    0.000000\n",
            "GpsProvider_26                    0.000000\n",
            "GpsProvider_27                    0.000000\n",
            "GpsProvider_28                    0.000000\n",
            "Length: 80, dtype: float64\n"
          ]
        }
      ],
      "source": [
        "missing_percentage = (simple.isna().sum() / len(simple)) * 100\n",
        "print(missing_percentage)"
      ]
    },
    {
      "cell_type": "code",
      "execution_count": null,
      "id": "5ee12c74-b530-4677-9d54-90b1c80f3b7d",
      "metadata": {
        "id": "5ee12c74-b530-4677-9d54-90b1c80f3b7d",
        "outputId": "8fc7ee9a-c731-435c-c25e-236a239e281e"
      },
      "outputs": [
        {
          "data": {
            "text/plain": [
              "(6141, 80)"
            ]
          },
          "execution_count": 26,
          "metadata": {},
          "output_type": "execute_result"
        }
      ],
      "source": [
        "# Remove rows with any NA values\n",
        "shipping_clean = simple.dropna()\n",
        "shipping_clean.shape"
      ]
    },
    {
      "cell_type": "code",
      "execution_count": null,
      "id": "c6d4f316-8919-40d6-a460-a78674660a18",
      "metadata": {
        "id": "c6d4f316-8919-40d6-a460-a78674660a18"
      },
      "outputs": [],
      "source": [
        "#Splitting training and testing data\n",
        "train, test = train_test_split(shipping_clean, test_size=0.2, random_state=2024)"
      ]
    },
    {
      "cell_type": "code",
      "execution_count": null,
      "id": "1f04a11d-9f31-4a09-a89e-dd5205fb2ffb",
      "metadata": {
        "id": "1f04a11d-9f31-4a09-a89e-dd5205fb2ffb"
      },
      "outputs": [],
      "source": [
        "#Y variable and X variables\n",
        "x_train = train.drop(['is_delayed'], axis=1)\n",
        "y_train = train['is_delayed']\n",
        "\n",
        "x_test= test.drop(['is_delayed'], axis=1)\n",
        "y_test = test['is_delayed']"
      ]
    },
    {
      "cell_type": "code",
      "execution_count": null,
      "id": "a2dec189-deca-46a3-a7e8-75cb61d90209",
      "metadata": {
        "id": "a2dec189-deca-46a3-a7e8-75cb61d90209"
      },
      "outputs": [],
      "source": [
        "#Performance Metric Function (TPR, FPR)\n",
        "def performance(Y_pred, Y_test, X_test):\n",
        "    cm = confusion_matrix(Y_test, Y_pred)\n",
        "    TPR = cm.ravel()[3]/(cm.ravel()[3]+cm.ravel()[2])\n",
        "    FPR = cm.ravel()[1]/(cm.ravel()[1]+cm.ravel()[0])\n",
        "    return TPR, FPR"
      ]
    },
    {
      "cell_type": "code",
      "execution_count": null,
      "id": "2d442207-69c7-4cc2-aeb5-9ec9134a4b1b",
      "metadata": {
        "id": "2d442207-69c7-4cc2-aeb5-9ec9134a4b1b",
        "outputId": "abe15c97-243e-4535-cbc7-1c5fd9440c7b"
      },
      "outputs": [
        {
          "name": "stdout",
          "output_type": "stream",
          "text": [
            "LDA Test Accuracy: 0.8869, LDA TPR: 0.9728453364817001, LDA FPR: 0.3036649214659686\n"
          ]
        }
      ],
      "source": [
        "#Linear Discriminant Analysis\n",
        "lda = LinearDiscriminantAnalysis()\n",
        "lda.fit(x_train, y_train)\n",
        "y_pred_lda = lda.predict(x_test)\n",
        "lda_acc = accuracy_score(y_test, y_pred_lda)\n",
        "lda_tpr, lda_fpr = performance(y_pred_lda, y_test, x_test)\n",
        "\n",
        "print(f'LDA Test Accuracy: {lda_acc:.4f}, LDA TPR: {lda_tpr}, LDA FPR: {lda_fpr}')"
      ]
    },
    {
      "cell_type": "code",
      "execution_count": null,
      "id": "9ab59b89-9995-483f-981b-414f367e1a42",
      "metadata": {
        "id": "9ab59b89-9995-483f-981b-414f367e1a42",
        "outputId": "f7c086ee-1a58-4c55-e8d3-1115febac876"
      },
      "outputs": [
        {
          "name": "stdout",
          "output_type": "stream",
          "text": [
            "CART Test Accuracy: 0.9300, CART TPR: 0.9716646989374262, CART FPR: 0.16230366492146597\n",
            "Best ccp_alpha: 0.0010\n"
          ]
        }
      ],
      "source": [
        "#Decision Tree Classifier (CART)\n",
        "grid_values = {'ccp_alpha': np.linspace(0, 0.10, 201)}\n",
        "dtc = DecisionTreeClassifier(random_state=2024)\n",
        "cv = KFold(n_splits=5, random_state=2024, shuffle=True)\n",
        "\n",
        "dtc_cv = GridSearchCV(dtc, param_grid=grid_values, scoring='accuracy', cv=cv, verbose=0)\n",
        "dtc_cv_model = dtc_cv.fit(x_train, y_train)\n",
        "\n",
        "best_ccp_alpha = float(dtc_cv_model.best_params_['ccp_alpha'])\n",
        "\n",
        "opt_dtc = DecisionTreeClassifier(min_samples_split=10,\n",
        "                            ccp_alpha=best_ccp_alpha,\n",
        "                            random_state = 2024)\n",
        "\n",
        "dtc_final = opt_dtc.fit(x_train, y_train)\n",
        "\n",
        "y_pred_dtc = dtc_final.predict(x_test)\n",
        "dtc_acc = accuracy_score(y_test, y_pred_dtc)\n",
        "\n",
        "dtc_tpr, dtc_fpr = performance(y_pred_dtc, y_test, x_test)\n",
        "\n",
        "print(f'CART Test Accuracy: {dtc_acc:.4f}, CART TPR: {dtc_tpr}, CART FPR: {dtc_fpr}')\n",
        "print(f'Best ccp_alpha: {best_ccp_alpha:.4f}')"
      ]
    },
    {
      "cell_type": "code",
      "execution_count": null,
      "id": "f7d81857-0247-45b6-b130-44a6c11ce8a5",
      "metadata": {
        "id": "f7d81857-0247-45b6-b130-44a6c11ce8a5",
        "outputId": "41d91acc-17fb-4f32-bf33-6b9ce4d40edf"
      },
      "outputs": [
        {
          "name": "stdout",
          "output_type": "stream",
          "text": [
            "GBC Test Accuracy: 0.9325, GBC TPR: 0.9598583234946871, GBC FPR: 0.12827225130890052\n"
          ]
        }
      ],
      "source": [
        "#Gradient Boosting Classifier\n",
        "gbc = GradientBoostingClassifier(n_estimators=200, max_leaf_nodes=10, random_state=2024)\n",
        "gbc_model = gbc.fit(x_train, y_train)\n",
        "y_pred_gbc = gbc_model.predict(x_test)\n",
        "\n",
        "gbc_acc = accuracy_score(y_test,y_pred_gbc)\n",
        "\n",
        "gbc_tpr, gbc_fpr = performance(y_pred_gbc, y_test, x_test)\n",
        "\n",
        "print(f'GBC Test Accuracy: {gbc_acc:.4f}, GBC TPR: {gbc_tpr}, GBC FPR: {gbc_fpr}')"
      ]
    },
    {
      "cell_type": "code",
      "execution_count": null,
      "id": "41b0d1f7-6540-424d-bc2d-57f74483057e",
      "metadata": {
        "id": "41b0d1f7-6540-424d-bc2d-57f74483057e",
        "outputId": "edb1fc76-94ed-4180-e5b5-76e281e8dee8"
      },
      "outputs": [
        {
          "data": {
            "text/html": [
              "<div>\n",
              "<style scoped>\n",
              "    .dataframe tbody tr th:only-of-type {\n",
              "        vertical-align: middle;\n",
              "    }\n",
              "\n",
              "    .dataframe tbody tr th {\n",
              "        vertical-align: top;\n",
              "    }\n",
              "\n",
              "    .dataframe thead th {\n",
              "        text-align: right;\n",
              "    }\n",
              "</style>\n",
              "<table border=\"1\" class=\"dataframe\">\n",
              "  <thead>\n",
              "    <tr style=\"text-align: right;\">\n",
              "      <th></th>\n",
              "      <th>Model</th>\n",
              "      <th>Accuracy</th>\n",
              "      <th>TPR</th>\n",
              "      <th>FPR</th>\n",
              "    </tr>\n",
              "  </thead>\n",
              "  <tbody>\n",
              "    <tr>\n",
              "      <th>0</th>\n",
              "      <td>LDA</td>\n",
              "      <td>0.886900</td>\n",
              "      <td>0.972845</td>\n",
              "      <td>0.303665</td>\n",
              "    </tr>\n",
              "    <tr>\n",
              "      <th>1</th>\n",
              "      <td>CART</td>\n",
              "      <td>0.930024</td>\n",
              "      <td>0.971665</td>\n",
              "      <td>0.162304</td>\n",
              "    </tr>\n",
              "    <tr>\n",
              "      <th>2</th>\n",
              "      <td>Gradient Boosting Classifier</td>\n",
              "      <td>0.932465</td>\n",
              "      <td>0.959858</td>\n",
              "      <td>0.128272</td>\n",
              "    </tr>\n",
              "  </tbody>\n",
              "</table>\n",
              "</div>"
            ],
            "text/plain": [
              "                          Model  Accuracy       TPR       FPR\n",
              "0                           LDA  0.886900  0.972845  0.303665\n",
              "1                          CART  0.930024  0.971665  0.162304\n",
              "2  Gradient Boosting Classifier  0.932465  0.959858  0.128272"
            ]
          },
          "execution_count": 24,
          "metadata": {},
          "output_type": "execute_result"
        }
      ],
      "source": [
        "#Table Comparing all of the Model's Performance Metrics\n",
        "results = pd.DataFrame({\n",
        "    'Model': ['LDA', 'CART', 'Gradient Boosting Classifier'],\n",
        "    'Accuracy': [lda_acc, dtc_acc, gbc_acc],\n",
        "    'TPR': [lda_tpr, dtc_tpr, gbc_tpr],\n",
        "    'FPR': [lda_fpr, dtc_fpr, gbc_fpr]\n",
        "})\n",
        "results"
      ]
    },
    {
      "cell_type": "code",
      "execution_count": null,
      "id": "2600b4aa-fe95-4c78-863b-3724ea160db0",
      "metadata": {
        "id": "2600b4aa-fe95-4c78-863b-3724ea160db0",
        "outputId": "ad2bbcd3-3417-44bb-df1c-184eeba30658"
      },
      "outputs": [
        {
          "data": {
            "image/png": "[encoded data removed]",
            "text/plain": [
              "<Figure size 800x600 with 1 Axes>"
            ]
          },
          "metadata": {},
          "output_type": "display_data"
        }
      ],
      "source": [
        "#ROC Curves\n",
        "import matplotlib.pyplot as plt\n",
        "from sklearn.metrics import roc_curve, auc\n",
        "\n",
        "# Model 1: LDA\n",
        "fpr1, tpr1, _ = roc_curve(y_test, y_pred_lda)\n",
        "roc_auc1 = auc(fpr1, tpr1)\n",
        "\n",
        "# Model 2: CART\n",
        "fpr2, tpr2, _ = roc_curve(y_test, y_pred_dtc)\n",
        "roc_auc2 = auc(fpr2, tpr2)\n",
        "\n",
        "# Model 3: GBC\n",
        "fpr3, tpr3, _ = roc_curve(y_test,y_pred_gbc )\n",
        "roc_auc3 = auc(fpr3, tpr3)\n",
        "\n",
        "# Plot ROC curves\n",
        "plt.figure(figsize=(8, 6))\n",
        "plt.plot(fpr1, tpr1, lw=3, label='LDA (area = {:0.2f})'.format(roc_auc1))\n",
        "plt.plot(fpr2, tpr2, lw=3, label='CART (area = {:0.2f})'.format(roc_auc2))\n",
        "plt.plot(fpr3, tpr3, lw=3, label='GBC (area = {:0.2f})'.format(roc_auc3))\n",
        "\n",
        "# Plot the baseline\n",
        "plt.plot([0, 1], [0, 1], color='navy', lw=3, linestyle='--', label='Naive Baseline (area = 0.50)')\n",
        "\n",
        "\n",
        "# Add labels and legend\n",
        "plt.title('ROC Curve', fontsize=18)\n",
        "plt.xlabel('FPR', fontsize=16)\n",
        "plt.ylabel('TPR', fontsize=16)\n",
        "plt.xlim([-0.01, 1.00])\n",
        "plt.ylim([-0.01, 1.01])\n",
        "plt.legend(loc='lower right', fontsize=14)\n",
        "plt.show()"
      ]
    }
  ],
  "metadata": {
    "kernelspec": {
      "display_name": "Python 3 (ipykernel)",
      "language": "python",
      "name": "python3"
    },
    "language_info": {
      "codemirror_mode": {
        "name": "ipython",
        "version": 3
      },
      "file_extension": ".py",
      "mimetype": "text/x-python",
      "name": "python",
      "nbconvert_exporter": "python",
      "pygments_lexer": "ipython3",
      "version": "3.12.6"
    },
    "colab": {
      "provenance": []
    }
  },
  "nbformat": 4,
  "nbformat_minor": 5
}